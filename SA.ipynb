{
 "cells": [
  {
   "cell_type": "code",
   "execution_count": 1,
   "id": "a6e7a23d-aaa8-4849-b531-4d23be85904c",
   "metadata": {},
   "outputs": [],
   "source": [
    "import random as rd\n",
    "import math"
   ]
  },
  {
   "cell_type": "code",
   "execution_count": 2,
   "id": "9a1f92a1-d0f0-4433-b5b4-8b7e52662c66",
   "metadata": {},
   "outputs": [],
   "source": [
    "class Course:\n",
    "    def __init__(self, code, nlesson, teacher, capacity):\n",
    "        self.code = code\n",
    "        self.nlesson = nlesson\n",
    "        self.teacher = teacher\n",
    "        self.capacity = capacity\n",
    "        \n",
    "    def __str__(self):\n",
    "        return f\"{self.code}\""
   ]
  },
  {
   "cell_type": "code",
   "execution_count": 3,
   "id": "2f44d8ba-eec5-4994-a435-54bf3c157fb9",
   "metadata": {},
   "outputs": [],
   "source": [
    "class Room:\n",
    "    def __init__(self, code, capacity):\n",
    "        self.code = code\n",
    "        self.capacity = capacity\n",
    "        \n",
    "    def __str__(self):\n",
    "        return f\"{self.code}\""
   ]
  },
  {
   "cell_type": "code",
   "execution_count": 4,
   "id": "2418fc37-8d0a-44da-8909-ab41da828aae",
   "metadata": {},
   "outputs": [],
   "source": [
    "class Schedule:\n",
    "    def __init__(self, timetable):\n",
    "        self.timetable = timetable\n",
    "        \n",
    "    def fitness(self):\n",
    "        error = 0\n",
    "        check = {}\n",
    "        for [day, lesson, room, course] in self.timetable:\n",
    "            if course.capacity > room.capacity:\n",
    "                error += 1\n",
    "            if (day, lesson, room) in check.keys():\n",
    "                error += 1\n",
    "            else:\n",
    "                check[(day, lesson, room)] = 1\n",
    "            if (day, lesson, course.teacher) in check.keys():\n",
    "                error += 1\n",
    "            else:\n",
    "                check[(day, lesson, course.teacher)] = 1\n",
    "            if (day, lesson, course) in check.keys():\n",
    "                error += 1\n",
    "            else:\n",
    "                check[(day, lesson, course)] = 1\n",
    "        fitness = 1.0 / (error + 1)\n",
    "        return fitness"
   ]
  },
  {
   "cell_type": "code",
   "execution_count": 5,
   "id": "cad47419-dcd8-4632-91ef-b7ab05de114b",
   "metadata": {},
   "outputs": [],
   "source": [
    "ncourse = 30\n",
    "nroom = 12\n",
    "nneighbor = 25"
   ]
  },
  {
   "cell_type": "code",
   "execution_count": 6,
   "id": "5dbdd24c-8478-4d67-92ea-3949f5ba8ac2",
   "metadata": {},
   "outputs": [],
   "source": [
    "def random_course():\n",
    "    courses = []\n",
    "    for i in range(ncourse):\n",
    "        courses.append(\n",
    "            Course(i, rd.randint(3, 6), rd.randint(1, 8), rd.randint(30, 40))\n",
    "        )\n",
    "    return courses\n",
    "\n",
    "courses = random_course()\n",
    "\n",
    "def random_room():\n",
    "    rooms = []\n",
    "    for i in range(nroom):\n",
    "        rooms.append(\n",
    "            Room(i, rd.randint(36, 45))\n",
    "        )\n",
    "    return rooms\n",
    "\n",
    "rooms = random_room()"
   ]
  },
  {
   "cell_type": "code",
   "execution_count": 7,
   "id": "517ab986-d908-4402-b928-3c9e0923f863",
   "metadata": {},
   "outputs": [],
   "source": [
    "def init_schedule():\n",
    "    timetable = []\n",
    "    for course in courses:\n",
    "        for _ in range(course.nlesson):\n",
    "            element = [\n",
    "                rd.randint(2, 6), \n",
    "                rd.randint(1, 12), \n",
    "                rooms[rd.randint(0, nroom - 1)], \n",
    "                course\n",
    "            ]\n",
    "            timetable.append(element)\n",
    "    return Schedule(timetable)"
   ]
  },
  {
   "cell_type": "code",
   "execution_count": 8,
   "id": "7c41ba06-351b-48b8-b483-326da6ac80aa",
   "metadata": {},
   "outputs": [],
   "source": [
    "def localsearch(schedule):\n",
    "    neighbors = []\n",
    "    idxs = rd.sample(range(len(schedule.timetable)), k=nneighbor)\n",
    "    for idx in idxs:\n",
    "        [day, lesson, room, course] = schedule.timetable[idx]\n",
    "        one = [day + 1 if day < 6 else 2, lesson, room, course]\n",
    "        neighbor = schedule\n",
    "        neighbor.timetable[idx] = one\n",
    "        neighbors.append(neighbor)\n",
    "        [day, lesson, room, course] = schedule.timetable[idx]\n",
    "        two = [day - 1 if day > 2 else 6, lesson, room, course]\n",
    "        neighbor = schedule\n",
    "        neighbor.timetable[idx] = two\n",
    "        neighbors.append(neighbor)\n",
    "        [day, lesson, room, course] = schedule.timetable[idx]\n",
    "        three = [day, lesson + 1 if lesson < 12 else 1, room, course]\n",
    "        neighbor = schedule\n",
    "        neighbor.timetable[idx] = three\n",
    "        neighbors.append(neighbor)\n",
    "        [day, lesson, room, course] = schedule.timetable[idx]\n",
    "        four = [day, lesson - 1 if lesson > 1 else 12, room, course]\n",
    "        neighbor = schedule\n",
    "        neighbor.timetable[idx] = four\n",
    "        neighbors.append(neighbor)\n",
    "        [day, lesson, room, course] = schedule.timetable[idx]\n",
    "        five = [day, lesson, rooms[rd.randint(0, nroom - 1)], course]\n",
    "        neighbor = schedule\n",
    "        neighbor.timetable[idx] = five\n",
    "        neighbors.append(neighbor)\n",
    "    return neighbors"
   ]
  },
  {
   "cell_type": "code",
   "execution_count": 9,
   "id": "419462b0-6080-4504-a784-f527207a9d43",
   "metadata": {},
   "outputs": [],
   "source": [
    "def metropolis(neighbors, s, t):\n",
    "    neighbor = rd.choice(neighbors)\n",
    "    if neighbor.fitness() >= s.fitness():\n",
    "        return neighbor\n",
    "    if rd.random() < math.exp((neighbor.fitness() - s.fitness()) / t):\n",
    "        return neighbor\n",
    "    return s"
   ]
  },
  {
   "cell_type": "code",
   "execution_count": 10,
   "id": "9dc98d59-d38e-485f-a340-3706ffabd65e",
   "metadata": {},
   "outputs": [],
   "source": [
    "def stimulated_annealing():\n",
    "    s = init_schedule()\n",
    "    opt = s\n",
    "    cnt = 10000\n",
    "    for i in range(0, cnt):\n",
    "        t = cnt / 100000\n",
    "        neighbors = localsearch(s)\n",
    "        s = metropolis(neighbors, s, t)\n",
    "        if opt.fitness() < s.fitness():\n",
    "            opt = s\n",
    "    return opt"
   ]
  },
  {
   "cell_type": "code",
   "execution_count": 11,
   "id": "bd93f71b-611e-468d-86a5-daa0c51a9c79",
   "metadata": {},
   "outputs": [],
   "source": [
    "opt = stimulated_annealing()"
   ]
  },
  {
   "cell_type": "code",
   "execution_count": 12,
   "id": "2cd34c28-43a6-460b-81a1-0b1f4478f628",
   "metadata": {},
   "outputs": [
    {
     "data": {
      "text/plain": [
       "38.0"
      ]
     },
     "execution_count": 12,
     "metadata": {},
     "output_type": "execute_result"
    }
   ],
   "source": [
    "1 / opt.fitness()"
   ]
  }
 ],
 "metadata": {
  "kernelspec": {
   "display_name": "Python 3",
   "language": "python",
   "name": "python3"
  },
  "language_info": {
   "codemirror_mode": {
    "name": "ipython",
    "version": 3
   },
   "file_extension": ".py",
   "mimetype": "text/x-python",
   "name": "python",
   "nbconvert_exporter": "python",
   "pygments_lexer": "ipython3",
   "version": "3.8.12"
  }
 },
 "nbformat": 4,
 "nbformat_minor": 5
}
